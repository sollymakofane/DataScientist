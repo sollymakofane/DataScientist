{
    "cells": [
        {
            "metadata": {
                "collapsed": true
            },
            "cell_type": "markdown",
            "source": "# The Battle of Neighborhoods | Business Proposal | Introduction \n\n### Presentation: \n\nThe motivation behind this Project is to help individuals in investigating better offices around their neighborhood. It will help individuals settling on brilliant and productive choice on choosing extraordinary neighborhood out of quantities of different neighborhoods in Scarborough, Toranto. \n\nBunches of individuals are relocating to different conditions of Canada and required loads of research at great lodging costs and reputated schools for their youngsters. This undertaking is for those individuals who are searching for better neighborhoods. For simplicity of getting to Cafe, School, Super market, clinical shops, basic food item shops, shopping center, theater, medical clinic, similarly invested individuals, and so on. \n\nThis Project plan to make an investigation of highlights for a people moving to Scarborough to look through a best neighborhood as a relative examination between neighborhoods. The highlights incorporate middle lodging cost and better school as indicated by evaluations, crime percentages of that specific territory, street availability, climate conditions, great administration for crisis, water assets both freash and waste water and stool passed on in sewers and recreational offices. \n\nIt will help individuals to get familiarity with the territory and neighborhood before moving to another city, state, nation or spot for their work or to begin another new life. \n\nIssue Which Tried to Solve: \n\nThe significant reason for this task, is to propose a superior neighborhood in another city for the individual who are shiffting there. Social nearness in the public arena as far as similarly invested individuals. Network to the air terminal, transport stand, downtown area, markets and other day by day needs things close by. \n\nArranged rundown of house as far as lodging costs in a rising or slipping request \n\nArranged rundown of schools as far as area, charges, rating and surveys \n\n### The Location: \n\nScarborough is a mainstream goal for new foreigners in Canada to dwell. Thus, it is one of the most different and multicultural regions in the Greater Toronto Area, being home to different strict gatherings and spots of love. Despite the fact that migration has become an intriguing issue in the course of recent years with more governments looking for additional limitations on outsiders and outcasts, the general pattern of movement into Canada has been one of on the ascent. \n\n### Foursquare API: \n\nThis undertaking would utilize Four-square API as its prime information gathering source as it has a database of a huge number of spots, particularly their places API which gives the capacity to perform area search, area sharing and insights concerning a business. \n\n### Work process: \n\nUtilizing certifications of Foursquare API highlights of close by spots of the areas would be mined. Because of http demand confinements the quantity of spots per neighborhood parameter would sensibly be set to 100 and the span parameter would be set to 500. \n\n### Bunching Approach: \n\nTo look at the similitudes of two urban communities, we chose to investigate neighborhoods, portion them, and gathering them into bunches to discover comparative neighborhoods in a major city like New York and Toronto. To have the option to do that, we have to bunch information which is a type of unaided AI: k-implies grouping calculation \n\nLibraries Which are Used to Develope the Project: \n\nPandas: For making and controlling dataframes. \n\nFolium: Python perception library would be utilized to imagine the areas bunch conveyance of utilizing intelligent flyer map. \n\nScikit Learn: For bringing in k-implies bunching. \n\nJSON: Library to deal with JSON records. \n\nXML: To isolate information from introduction and XML stores information in plain content organization. \n\nGeocoder: To recover Location Data. \n\nExcellent Soup and Requests: To scrap and library to deal with http demands. \n\nMatplotlib: Python Plotting Module."
        },
        {
            "metadata": {},
            "cell_type": "code",
            "source": "",
            "execution_count": null,
            "outputs": []
        }
    ],
    "metadata": {
        "kernelspec": {
            "name": "python3",
            "display_name": "Python 3.6",
            "language": "python"
        },
        "language_info": {
            "name": "python",
            "version": "3.6.9",
            "mimetype": "text/x-python",
            "codemirror_mode": {
                "name": "ipython",
                "version": 3
            },
            "pygments_lexer": "ipython3",
            "nbconvert_exporter": "python",
            "file_extension": ".py"
        }
    },
    "nbformat": 4,
    "nbformat_minor": 1
}