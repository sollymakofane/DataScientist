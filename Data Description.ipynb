{
    "cells": [
        {
            "metadata": {
                "collapsed": true
            },
            "cell_type": "markdown",
            "source": "# The Battle of Neighborhoods | Data Description\n\n### Information Description: \n\n###  Information Link: https://en.wikipedia.org/wiki/List_of_postal_codes_of_Canada:_M \n\nWill utilize Scarborough dataset which we rejected from wikipedia on Week 3. Dataset comprising of scope and longitude, postal districts. \n\n###  Foursquare API Data: \n\nWe will require information about various settings in various neighborhoods of that particular precinct. So as to pick up that data we will utilize \"Foursquare\" locational data. Foursquare is an area information supplier with data pretty much all way of settings and occasions inside a territory of intrigue. Such data incorporates setting names, areas, menus and even photographs. Accordingly, the foursquare area stage will be utilized as the sole information source since all the expressed required data can be acquired through the API. \n\nIn the wake of finding the rundown of neighborhoods, we at that point interface with the Foursquare API to assemble data about scenes inside every single neighborhood. For every area, we have picked the range to be 100 meter. \n\nThe information recovered from Foursquare contained data of scenes inside a predefined separation of the longitude and scope of the postcodes. The data acquired per scene as follows: \n\n1. Neighborhood \n\n2. Neighborhood Latitude \n\n3. Neighborhood Longitude \n\n4. Scene \n\n5. Name of the scene for example the name of a store or caf\u00e9 \n\n6. Scene Latitude \n\n7. Scene Longitude \n\n8. Scene Category"
        },
        {
            "metadata": {},
            "cell_type": "code",
            "source": "",
            "execution_count": null,
            "outputs": []
        }
    ],
    "metadata": {
        "kernelspec": {
            "name": "python3",
            "display_name": "Python 3.6",
            "language": "python"
        },
        "language_info": {
            "name": "python",
            "version": "3.6.9",
            "mimetype": "text/x-python",
            "codemirror_mode": {
                "name": "ipython",
                "version": 3
            },
            "pygments_lexer": "ipython3",
            "nbconvert_exporter": "python",
            "file_extension": ".py"
        }
    },
    "nbformat": 4,
    "nbformat_minor": 1
}